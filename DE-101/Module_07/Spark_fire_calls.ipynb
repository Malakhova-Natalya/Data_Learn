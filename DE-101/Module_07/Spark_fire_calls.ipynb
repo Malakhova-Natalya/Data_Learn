{
 "cells": [
  {
   "cell_type": "markdown",
   "id": "6ecc4e98",
   "metadata": {},
   "source": [
    "# Spark: San-Francisco fire calls project"
   ]
  },
  {
   "cell_type": "markdown",
   "id": "32d13fda",
   "metadata": {
    "toc": true
   },
   "source": [
    "<h1>Содержание<span class=\"tocSkip\"></span></h1>\n",
    "<div class=\"toc\"><ul class=\"toc-item\"><li><span><a href=\"#Описание-проекта\" data-toc-modified-id=\"Описание-проекта-1\"><span class=\"toc-item-num\">1&nbsp;&nbsp;</span>Описание проекта</a></span></li><li><span><a href=\"#Подготовка\" data-toc-modified-id=\"Подготовка-2\"><span class=\"toc-item-num\">2&nbsp;&nbsp;</span>Подготовка</a></span></li><li><span><a href=\"#Примеры-работ-в-Spark\" data-toc-modified-id=\"Примеры-работ-в-Spark-3\"><span class=\"toc-item-num\">3&nbsp;&nbsp;</span>Примеры работ в Spark</a></span><ul class=\"toc-item\"><li><span><a href=\"#Схема\" data-toc-modified-id=\"Схема-3.1\"><span class=\"toc-item-num\">3.1&nbsp;&nbsp;</span>Схема</a></span></li><li><span><a href=\"#Чтение-файла\" data-toc-modified-id=\"Чтение-файла-3.2\"><span class=\"toc-item-num\">3.2&nbsp;&nbsp;</span>Чтение файла</a></span></li><li><span><a href=\"#Кэширование-данных-и-вывод-схемы\" data-toc-modified-id=\"Кэширование-данных-и-вывод-схемы-3.3\"><span class=\"toc-item-num\">3.3&nbsp;&nbsp;</span>Кэширование данных и вывод схемы</a></span></li><li><span><a href=\"#Вывод-первых-строк\" data-toc-modified-id=\"Вывод-первых-строк-3.4\"><span class=\"toc-item-num\">3.4&nbsp;&nbsp;</span>Вывод первых строк</a></span></li><li><span><a href=\"#Вывод-строк-по-условию\" data-toc-modified-id=\"Вывод-строк-по-условию-3.5\"><span class=\"toc-item-num\">3.5&nbsp;&nbsp;</span>Вывод строк по условию</a></span></li><li><span><a href=\"#Условие,-агрегация,-переименование\" data-toc-modified-id=\"Условие,-агрегация,-переименование-3.6\"><span class=\"toc-item-num\">3.6&nbsp;&nbsp;</span>Условие, агрегация, переименование</a></span></li><li><span><a href=\"#Новый-датафрейм\" data-toc-modified-id=\"Новый-датафрейм-3.7\"><span class=\"toc-item-num\">3.7&nbsp;&nbsp;</span>Новый датафрейм</a></span></li><li><span><a href=\"#Distinct\" data-toc-modified-id=\"Distinct-3.8\"><span class=\"toc-item-num\">3.8&nbsp;&nbsp;</span>Distinct</a></span></li><li><span><a href=\"#Новый-датафрейм,-переименование,-условие\" data-toc-modified-id=\"Новый-датафрейм,-переименование,-условие-3.9\"><span class=\"toc-item-num\">3.9&nbsp;&nbsp;</span>Новый датафрейм, переименование, условие</a></span></li><li><span><a href=\"#Преобразование-типов-данных\" data-toc-modified-id=\"Преобразование-типов-данных-3.10\"><span class=\"toc-item-num\">3.10&nbsp;&nbsp;</span>Преобразование типов данных</a></span></li><li><span><a href=\"#Серия-преобразований\" data-toc-modified-id=\"Серия-преобразований-3.11\"><span class=\"toc-item-num\">3.11&nbsp;&nbsp;</span>Серия преобразований</a></span></li><li><span><a href=\"#Avg,-Min,-Max\" data-toc-modified-id=\"Avg,-Min,-Max-3.12\"><span class=\"toc-item-num\">3.12&nbsp;&nbsp;</span>Avg, Min, Max</a></span></li></ul></li><li><span><a href=\"#Ответы-на-вопросы\" data-toc-modified-id=\"Ответы-на-вопросы-4\"><span class=\"toc-item-num\">4&nbsp;&nbsp;</span>Ответы на вопросы</a></span><ul class=\"toc-item\"><li><span><a href=\"#Q-1)-How-many-distinct-types-of-calls-were-made-to-the-Fire-Department?\" data-toc-modified-id=\"Q-1)-How-many-distinct-types-of-calls-were-made-to-the-Fire-Department?-4.1\"><span class=\"toc-item-num\">4.1&nbsp;&nbsp;</span>Q-1) How many distinct types of calls were made to the Fire Department?</a></span></li><li><span><a href=\"#Q-2)-What-are-distinct-types-of-calls-were-made-to-the-Fire-Department?\" data-toc-modified-id=\"Q-2)-What-are-distinct-types-of-calls-were-made-to-the-Fire-Department?-4.2\"><span class=\"toc-item-num\">4.2&nbsp;&nbsp;</span>Q-2) What are distinct types of calls were made to the Fire Department?</a></span></li><li><span><a href=\"#Q-3)-Find-out-all-response-or-delayed-times-greater-than-5-mins?\" data-toc-modified-id=\"Q-3)-Find-out-all-response-or-delayed-times-greater-than-5-mins?-4.3\"><span class=\"toc-item-num\">4.3&nbsp;&nbsp;</span>Q-3) Find out all response or delayed times greater than 5 mins?</a></span></li><li><span><a href=\"#Q-4a)-What-zip-codes-accounted-for-most-common-calls?\" data-toc-modified-id=\"Q-4a)-What-zip-codes-accounted-for-most-common-calls?-4.4\"><span class=\"toc-item-num\">4.4&nbsp;&nbsp;</span>Q-4a) What zip codes accounted for most common calls?</a></span></li><li><span><a href=\"#Q-5)-What-was-the-sum-of-all-calls,-average,-min-and-max-of-the-response-times-for-calls?\" data-toc-modified-id=\"Q-5)-What-was-the-sum-of-all-calls,-average,-min-and-max-of-the-response-times-for-calls?-4.5\"><span class=\"toc-item-num\">4.5&nbsp;&nbsp;</span>Q-5) What was the sum of all calls, average, min and max of the response times for calls?</a></span></li><li><span><a href=\"#Q-6b)-What-week-of-the-year-in-2018-had-the-most-fire-calls?\" data-toc-modified-id=\"Q-6b)-What-week-of-the-year-in-2018-had-the-most-fire-calls?-4.6\"><span class=\"toc-item-num\">4.6&nbsp;&nbsp;</span>Q-6b) What week of the year in 2018 had the most fire calls?</a></span></li><li><span><a href=\"#Q-7)-What-neighborhoods-in-San-Francisco-had-the-worst-response-time-in-2018?\" data-toc-modified-id=\"Q-7)-What-neighborhoods-in-San-Francisco-had-the-worst-response-time-in-2018?-4.7\"><span class=\"toc-item-num\">4.7&nbsp;&nbsp;</span>Q-7) What neighborhoods in San Francisco had the worst response time in 2018?</a></span></li></ul></li></ul></div>"
   ]
  },
  {
   "cell_type": "markdown",
   "id": "1ed036af",
   "metadata": {},
   "source": [
    "## Описание проекта"
   ]
  },
  {
   "cell_type": "markdown",
   "id": "0db44ddc",
   "metadata": {},
   "source": [
    "В данной тетради - практика работы со Spark. \n",
    "\n",
    "\n",
    "Условно можно разделить содержимое на 3 категории:\n",
    "\n",
    "\n",
    "1. Подготовка к использованию Spark в Jupyter Notebook\n",
    "\n",
    "\n",
    "2. Практика использования Spark: открытие файла, трансформация датафрейма, расчёт показателей и вывод на экран результатов. Этот раздел был пройден на курсе.\n",
    "\n",
    "\n",
    "3. Самостоятельная часть: ответы на вопросы при помощи Spark.\n"
   ]
  },
  {
   "cell_type": "markdown",
   "id": "b812e3f3",
   "metadata": {},
   "source": [
    "## Подготовка"
   ]
  },
  {
   "cell_type": "markdown",
   "id": "0f0d5e96",
   "metadata": {},
   "source": [
    "Устанавливаем необходимые библиотеки:"
   ]
  },
  {
   "cell_type": "code",
   "execution_count": 1,
   "id": "f58a68f1",
   "metadata": {},
   "outputs": [],
   "source": [
    "import findspark\n",
    "findspark.init()\n",
    "import pyspark\n",
    "\n",
    "from pyspark.sql import SparkSession\n",
    "\n",
    "from pyspark.sql.types import *\n",
    "import pyspark.sql.functions as F"
   ]
  },
  {
   "cell_type": "markdown",
   "id": "3192ddef",
   "metadata": {},
   "source": [
    "Задаём Спарк-сессию:"
   ]
  },
  {
   "cell_type": "code",
   "execution_count": 2,
   "id": "a7a7de4a",
   "metadata": {},
   "outputs": [],
   "source": [
    "spark = (SparkSession\n",
    "        .builder\n",
    "        .appName(\"PythonFireProject\")\n",
    "        .getOrCreate())"
   ]
  },
  {
   "cell_type": "markdown",
   "id": "ca4c77e1",
   "metadata": {},
   "source": [
    "## Примеры работ в Spark"
   ]
  },
  {
   "cell_type": "markdown",
   "id": "2c2dd276",
   "metadata": {},
   "source": [
    "### Схема"
   ]
  },
  {
   "cell_type": "code",
   "execution_count": 3,
   "id": "b1d16e20",
   "metadata": {},
   "outputs": [],
   "source": [
    "# Programmatic way to define a schema \n",
    "fire_schema = StructType([StructField('CallNumber', IntegerType(), True),\n",
    "                     StructField('UnitID', StringType(), True),\n",
    "                     StructField('IncidentNumber', IntegerType(), True),\n",
    "                     StructField('CallType', StringType(), True),                  \n",
    "                     StructField('CallDate', StringType(), True),      \n",
    "                     StructField('WatchDate', StringType(), True),\n",
    "                     StructField('CallFinalDisposition', StringType(), True),\n",
    "                     StructField('AvailableDtTm', StringType(), True),\n",
    "                     StructField('Address', StringType(), True),       \n",
    "                     StructField('City', StringType(), True),       \n",
    "                     StructField('Zipcode', IntegerType(), True),       \n",
    "                     StructField('Battalion', StringType(), True),                 \n",
    "                     StructField('StationArea', StringType(), True),       \n",
    "                     StructField('Box', StringType(), True),       \n",
    "                     StructField('OriginalPriority', StringType(), True),       \n",
    "                     StructField('Priority', StringType(), True),       \n",
    "                     StructField('FinalPriority', IntegerType(), True),       \n",
    "                     StructField('ALSUnit', BooleanType(), True),       \n",
    "                     StructField('CallTypeGroup', StringType(), True),\n",
    "                     StructField('NumAlarms', IntegerType(), True),\n",
    "                     StructField('UnitType', StringType(), True),\n",
    "                     StructField('UnitSequenceInCallDispatch', IntegerType(), True),\n",
    "                     StructField('FirePreventionDistrict', StringType(), True),\n",
    "                     StructField('SupervisorDistrict', StringType(), True),\n",
    "                     StructField('Neighborhood', StringType(), True),\n",
    "                     StructField('Location', StringType(), True),\n",
    "                     StructField('RowID', StringType(), True),\n",
    "                     StructField('Delay', FloatType(), True)])"
   ]
  },
  {
   "cell_type": "markdown",
   "id": "4c811538",
   "metadata": {},
   "source": [
    "### Чтение файла"
   ]
  },
  {
   "cell_type": "code",
   "execution_count": 4,
   "id": "5c1c17ed",
   "metadata": {},
   "outputs": [],
   "source": [
    "# Use the DataFrameReader interface to read a CSV file\n",
    "sf_fire_file = \"C:\\datasets\\sf-fire-calls.csv\"\n",
    "fire_df = spark.read.csv(sf_fire_file, header=True, schema=fire_schema)"
   ]
  },
  {
   "cell_type": "markdown",
   "id": "836b9d5d",
   "metadata": {},
   "source": [
    "### Кэширование данных и вывод схемы"
   ]
  },
  {
   "cell_type": "code",
   "execution_count": 5,
   "id": "77233542",
   "metadata": {},
   "outputs": [
    {
     "name": "stdout",
     "output_type": "stream",
     "text": [
      "root\n",
      " |-- CallNumber: integer (nullable = true)\n",
      " |-- UnitID: string (nullable = true)\n",
      " |-- IncidentNumber: integer (nullable = true)\n",
      " |-- CallType: string (nullable = true)\n",
      " |-- CallDate: string (nullable = true)\n",
      " |-- WatchDate: string (nullable = true)\n",
      " |-- CallFinalDisposition: string (nullable = true)\n",
      " |-- AvailableDtTm: string (nullable = true)\n",
      " |-- Address: string (nullable = true)\n",
      " |-- City: string (nullable = true)\n",
      " |-- Zipcode: integer (nullable = true)\n",
      " |-- Battalion: string (nullable = true)\n",
      " |-- StationArea: string (nullable = true)\n",
      " |-- Box: string (nullable = true)\n",
      " |-- OriginalPriority: string (nullable = true)\n",
      " |-- Priority: string (nullable = true)\n",
      " |-- FinalPriority: integer (nullable = true)\n",
      " |-- ALSUnit: boolean (nullable = true)\n",
      " |-- CallTypeGroup: string (nullable = true)\n",
      " |-- NumAlarms: integer (nullable = true)\n",
      " |-- UnitType: string (nullable = true)\n",
      " |-- UnitSequenceInCallDispatch: integer (nullable = true)\n",
      " |-- FirePreventionDistrict: string (nullable = true)\n",
      " |-- SupervisorDistrict: string (nullable = true)\n",
      " |-- Neighborhood: string (nullable = true)\n",
      " |-- Location: string (nullable = true)\n",
      " |-- RowID: string (nullable = true)\n",
      " |-- Delay: float (nullable = true)\n",
      "\n"
     ]
    }
   ],
   "source": [
    "# Cache the DataFrame since we will be performing some operations on it.\n",
    "fire_df.cache()\n",
    "fire_df.count()\n",
    "\n",
    "fire_df.printSchema()"
   ]
  },
  {
   "cell_type": "markdown",
   "id": "10932ffc",
   "metadata": {},
   "source": [
    "### Вывод первых строк"
   ]
  },
  {
   "cell_type": "code",
   "execution_count": 6,
   "id": "147ea9ef",
   "metadata": {},
   "outputs": [
    {
     "name": "stdout",
     "output_type": "stream",
     "text": [
      "+----------+------+--------------+----------------+----------+----------+--------------------+----------------------+---------------------------+----+-------+---------+-----------+----+----------------+--------+-------------+-------+-------------+---------+--------+--------------------------+----------------------+------------------+---------------------+-------------------------------------+-------------+---------+\n",
      "|CallNumber|UnitID|IncidentNumber|CallType        |CallDate  |WatchDate |CallFinalDisposition|AvailableDtTm         |Address                    |City|Zipcode|Battalion|StationArea|Box |OriginalPriority|Priority|FinalPriority|ALSUnit|CallTypeGroup|NumAlarms|UnitType|UnitSequenceInCallDispatch|FirePreventionDistrict|SupervisorDistrict|Neighborhood         |Location                             |RowID        |Delay    |\n",
      "+----------+------+--------------+----------------+----------+----------+--------------------+----------------------+---------------------------+----+-------+---------+-----------+----+----------------+--------+-------------+-------+-------------+---------+--------+--------------------------+----------------------+------------------+---------------------+-------------------------------------+-------------+---------+\n",
      "|20110016  |T13   |2003235       |Structure Fire  |01/11/2002|01/10/2002|Other               |01/11/2002 01:51:44 AM|2000 Block of CALIFORNIA ST|SF  |94109  |B04      |38         |3362|3               |3       |3            |false  |NULL         |1        |TRUCK   |2                         |4                     |5                 |Pacific Heights      |(37.7895840679362, -122.428071912459)|020110016-T13|2.95     |\n",
      "|20110022  |M17   |2003241       |Medical Incident|01/11/2002|01/10/2002|Other               |01/11/2002 03:01:18 AM|0 Block of SILVERVIEW DR   |SF  |94124  |B10      |42         |6495|3               |3       |3            |true   |NULL         |1        |MEDIC   |1                         |10                    |10                |Bayview Hunters Point|(37.7337623673897, -122.396113802632)|020110022-M17|4.7      |\n",
      "|20110023  |M41   |2003242       |Medical Incident|01/11/2002|01/10/2002|Other               |01/11/2002 02:39:50 AM|MARKET ST/MCALLISTER ST    |SF  |94102  |B03      |01         |1455|3               |3       |3            |true   |NULL         |1        |MEDIC   |2                         |3                     |6                 |Tenderloin           |(37.7811772186856, -122.411699931232)|020110023-M41|2.4333334|\n",
      "|20110032  |E11   |2003250       |Vehicle Fire    |01/11/2002|01/10/2002|Other               |01/11/2002 04:16:46 AM|APPLETON AV/MISSION ST     |SF  |94110  |B06      |32         |5626|3               |3       |3            |false  |NULL         |1        |ENGINE  |1                         |6                     |9                 |Bernal Heights       |(37.7388432849018, -122.423948785199)|020110032-E11|1.5      |\n",
      "|20110043  |B04   |2003259       |Alarms          |01/11/2002|01/10/2002|Other               |01/11/2002 06:01:58 AM|1400 Block of SUTTER ST    |SF  |94109  |B04      |03         |3223|3               |3       |3            |false  |NULL         |1        |CHIEF   |2                         |4                     |2                 |Western Addition     |(37.7872890372638, -122.424236212664)|020110043-B04|3.4833333|\n",
      "+----------+------+--------------+----------------+----------+----------+--------------------+----------------------+---------------------------+----+-------+---------+-----------+----+----------------+--------+-------------+-------+-------------+---------+--------+--------------------------+----------------------+------------------+---------------------+-------------------------------------+-------------+---------+\n",
      "only showing top 5 rows\n",
      "\n"
     ]
    }
   ],
   "source": [
    "#display(fire_df.limit(5))\n",
    "fire_df.show(5, False)"
   ]
  },
  {
   "cell_type": "markdown",
   "id": "028693c7",
   "metadata": {},
   "source": [
    "### Вывод строк по условию"
   ]
  },
  {
   "cell_type": "code",
   "execution_count": 7,
   "id": "b07f8a84",
   "metadata": {},
   "outputs": [
    {
     "name": "stdout",
     "output_type": "stream",
     "text": [
      "+--------------+----------------------+--------------+\n",
      "|IncidentNumber|AvailableDtTm         |CallType      |\n",
      "+--------------+----------------------+--------------+\n",
      "|2003235       |01/11/2002 01:51:44 AM|Structure Fire|\n",
      "|2003250       |01/11/2002 04:16:46 AM|Vehicle Fire  |\n",
      "|2003259       |01/11/2002 06:01:58 AM|Alarms        |\n",
      "|2003279       |01/11/2002 08:03:26 AM|Structure Fire|\n",
      "|2003301       |01/11/2002 09:46:44 AM|Alarms        |\n",
      "+--------------+----------------------+--------------+\n",
      "only showing top 5 rows\n",
      "\n"
     ]
    }
   ],
   "source": [
    "# Filter out \"Medical Incident\" call types\n",
    "\n",
    "# Note that filter() and where() methods on the DataFrame are similar. \n",
    "# Check relevant documentation for their respective argument types.\n",
    "\n",
    "few_fire_df = (fire_df\n",
    "               .select(\"IncidentNumber\", \"AvailableDtTm\", \"CallType\")\n",
    "               .where(F.col(\"CallType\") != \"Medical Incident\"))\n",
    "\n",
    "few_fire_df.show(5, truncate=False)"
   ]
  },
  {
   "cell_type": "markdown",
   "id": "53874ebf",
   "metadata": {},
   "source": [
    "### Условие, агрегация, переименование\n",
    "\n",
    "Посмотрим, сколько различных видов звонков (с непустыми значениями звонков)"
   ]
  },
  {
   "cell_type": "code",
   "execution_count": 8,
   "id": "b3aab023",
   "metadata": {},
   "outputs": [
    {
     "name": "stdout",
     "output_type": "stream",
     "text": [
      "+-----------------+\n",
      "|DistinctCallTypes|\n",
      "+-----------------+\n",
      "|               30|\n",
      "+-----------------+\n",
      "\n"
     ]
    },
    {
     "data": {
      "text/plain": [
       "30"
      ]
     },
     "execution_count": 8,
     "metadata": {},
     "output_type": "execute_result"
    }
   ],
   "source": [
    "# return number of distinct types of calls using countDistinct()\n",
    "\n",
    "(fire_df\n",
    "  .select(\"CallType\")\n",
    "  .where(F.col(\"CallType\").isNotNull())\n",
    "  .agg(F.countDistinct(\"CallType\").alias(\"DistinctCallTypes\"))\n",
    "  .show())\n",
    "\n",
    "(fire_df\n",
    "  .select(\"CallType\")\n",
    "  .where(F.col(\"CallType\").isNotNull())\n",
    "  .distinct()\n",
    "  .count())"
   ]
  },
  {
   "cell_type": "markdown",
   "id": "1258c788",
   "metadata": {},
   "source": [
    "### Новый датафрейм\n",
    "\n",
    "Смотрим на детали некоторых звонков, которые не связаны с медицинскими происшествиями:"
   ]
  },
  {
   "cell_type": "code",
   "execution_count": 9,
   "id": "06f11a70",
   "metadata": {},
   "outputs": [
    {
     "name": "stdout",
     "output_type": "stream",
     "text": [
      "+--------------+----------------------+--------------+\n",
      "|IncidentNumber|AvailableDtTm         |CallType      |\n",
      "+--------------+----------------------+--------------+\n",
      "|2003235       |01/11/2002 01:51:44 AM|Structure Fire|\n",
      "|2003250       |01/11/2002 04:16:46 AM|Vehicle Fire  |\n",
      "|2003259       |01/11/2002 06:01:58 AM|Alarms        |\n",
      "|2003279       |01/11/2002 08:03:26 AM|Structure Fire|\n",
      "|2003301       |01/11/2002 09:46:44 AM|Alarms        |\n",
      "+--------------+----------------------+--------------+\n",
      "only showing top 5 rows\n",
      "\n"
     ]
    }
   ],
   "source": [
    "# Example\n",
    "few_fire_df = (fire_df\n",
    "  .select(\"IncidentNumber\", \"AvailableDtTm\", \"CallType\") \n",
    "  .where(F.col(\"CallType\") != \"Medical Incident\"))\n",
    "few_fire_df.show(5, truncate=False)"
   ]
  },
  {
   "cell_type": "markdown",
   "id": "bd9c96e2",
   "metadata": {},
   "source": [
    "### Distinct\n",
    "\n",
    "Смотрим 10 различных видов звонков:"
   ]
  },
  {
   "cell_type": "code",
   "execution_count": 10,
   "id": "cb6385fc",
   "metadata": {},
   "outputs": [
    {
     "name": "stdout",
     "output_type": "stream",
     "text": [
      "+-----------------------------+\n",
      "|CallType                     |\n",
      "+-----------------------------+\n",
      "|Elevator / Escalator Rescue  |\n",
      "|Aircraft Emergency           |\n",
      "|Alarms                       |\n",
      "|Odor (Strange / Unknown)     |\n",
      "|Citizen Assist / Service Call|\n",
      "|HazMat                       |\n",
      "|Explosion                    |\n",
      "|Oil Spill                    |\n",
      "|Vehicle Fire                 |\n",
      "|Suspicious Package           |\n",
      "+-----------------------------+\n",
      "only showing top 10 rows\n",
      "\n"
     ]
    }
   ],
   "source": [
    "# filter for only distinct non-null CallTypes from all the rows\n",
    "(fire_df\n",
    "  .select(\"CallType\")\n",
    "  .where(F.col(\"CallType\").isNotNull())\n",
    "  .distinct()\n",
    "  .show(10, False))"
   ]
  },
  {
   "cell_type": "markdown",
   "id": "08c0275c",
   "metadata": {},
   "source": [
    "### Новый датафрейм, переименование, условие \n",
    "\n",
    "Смотрим на 5 значений в ситуациях, когда ответ был задержан более чем на 5 минут:"
   ]
  },
  {
   "cell_type": "code",
   "execution_count": 11,
   "id": "b2eeff8b",
   "metadata": {
    "scrolled": true
   },
   "outputs": [
    {
     "name": "stdout",
     "output_type": "stream",
     "text": [
      "+---------------------+\n",
      "|ResponseDelayedinMins|\n",
      "+---------------------+\n",
      "|5.35                 |\n",
      "|6.25                 |\n",
      "|5.2                  |\n",
      "|5.6                  |\n",
      "|7.25                 |\n",
      "+---------------------+\n",
      "only showing top 5 rows\n",
      "\n"
     ]
    }
   ],
   "source": [
    "# Rename column\n",
    "new_fire_df = fire_df.withColumnRenamed(\"Delay\", \"ResponseDelayedinMins\")\n",
    "(new_fire_df\n",
    "  .select(\"ResponseDelayedinMins\")\n",
    "  .where(F.col(\"ResponseDelayedinMins\") > 5)\n",
    "  .show(5, False))"
   ]
  },
  {
   "cell_type": "markdown",
   "id": "f8f795fd",
   "metadata": {},
   "source": [
    "### Преобразование типов данных\n",
    "\n",
    "Преобразуем файл: приводим тип данных времени и переименовываем колонки, удаляя ненужные"
   ]
  },
  {
   "cell_type": "code",
   "execution_count": 12,
   "id": "9368f86b",
   "metadata": {},
   "outputs": [],
   "source": [
    "# date operations\n",
    "fire_ts_df = (new_fire_df\n",
    "  .withColumn(\"IncidentDate\", F.to_timestamp(F.col(\"CallDate\"), \"MM/dd/yyyy\"))\n",
    "  .drop(\"CallDate\") \n",
    "  .withColumn(\"OnWatchDate\", F.to_timestamp(F.col(\"WatchDate\"), \"MM/dd/yyyy\"))\n",
    "  .drop(\"WatchDate\") \n",
    "  .withColumn(\"AvailableDtTS\", F.to_timestamp(F.col(\"AvailableDtTm\"), \n",
    "  \"MM/dd/yyyy hh:mm:ss a\"))\n",
    "  .drop(\"AvailableDtTm\"))"
   ]
  },
  {
   "cell_type": "markdown",
   "id": "20650bdb",
   "metadata": {},
   "source": [
    "Смотрим на первые строки новых колонок с приведенным типом данных:"
   ]
  },
  {
   "cell_type": "code",
   "execution_count": 13,
   "id": "677463be",
   "metadata": {},
   "outputs": [
    {
     "name": "stdout",
     "output_type": "stream",
     "text": [
      "+-------------------+-------------------+-------------------+\n",
      "|IncidentDate       |OnWatchDate        |AvailableDtTS      |\n",
      "+-------------------+-------------------+-------------------+\n",
      "|2002-01-11 00:00:00|2002-01-10 00:00:00|2002-01-11 01:51:44|\n",
      "|2002-01-11 00:00:00|2002-01-10 00:00:00|2002-01-11 03:01:18|\n",
      "|2002-01-11 00:00:00|2002-01-10 00:00:00|2002-01-11 02:39:50|\n",
      "|2002-01-11 00:00:00|2002-01-10 00:00:00|2002-01-11 04:16:46|\n",
      "|2002-01-11 00:00:00|2002-01-10 00:00:00|2002-01-11 06:01:58|\n",
      "+-------------------+-------------------+-------------------+\n",
      "only showing top 5 rows\n",
      "\n"
     ]
    }
   ],
   "source": [
    "# Select the converted columns\n",
    "(fire_ts_df\n",
    "  .select(\"IncidentDate\", \"OnWatchDate\", \"AvailableDtTS\")\n",
    "  .show(5, False))"
   ]
  },
  {
   "cell_type": "markdown",
   "id": "7c2f0565",
   "metadata": {},
   "source": [
    "### Серия преобразований\n",
    "\n",
    "Смотрим топ-10 частных причин вызовов:"
   ]
  },
  {
   "cell_type": "code",
   "execution_count": 14,
   "id": "a5dbb9cf",
   "metadata": {},
   "outputs": [
    {
     "name": "stdout",
     "output_type": "stream",
     "text": [
      "+-------------------------------+------+\n",
      "|CallType                       |count |\n",
      "+-------------------------------+------+\n",
      "|Medical Incident               |113794|\n",
      "|Structure Fire                 |23319 |\n",
      "|Alarms                         |19406 |\n",
      "|Traffic Collision              |7013  |\n",
      "|Citizen Assist / Service Call  |2524  |\n",
      "|Other                          |2166  |\n",
      "|Outside Fire                   |2094  |\n",
      "|Vehicle Fire                   |854   |\n",
      "|Gas Leak (Natural and LP Gases)|764   |\n",
      "|Water Rescue                   |755   |\n",
      "+-------------------------------+------+\n",
      "only showing top 10 rows\n",
      "\n"
     ]
    }
   ],
   "source": [
    "# what were the most common types of fire calls?\n",
    "(fire_ts_df\n",
    "  .select(\"CallType\")\n",
    "  .where(F.col(\"CallType\").isNotNull())\n",
    "  .groupBy(\"CallType\")\n",
    "  .count()\n",
    "  .orderBy(\"count\", ascending=False)\n",
    "  .show(n=10, truncate=False))"
   ]
  },
  {
   "cell_type": "markdown",
   "id": "a2c72144",
   "metadata": {},
   "source": [
    "### Avg, Min, Max\n",
    "\n",
    "Смотрим: сколько всего звонков, среднее время ответа в минутах, минимальное и максимальное время ответа"
   ]
  },
  {
   "cell_type": "code",
   "execution_count": 15,
   "id": "2cdceda6",
   "metadata": {},
   "outputs": [
    {
     "name": "stdout",
     "output_type": "stream",
     "text": [
      "+--------------+--------------------------+--------------------------+--------------------------+\n",
      "|sum(NumAlarms)|avg(ResponseDelayedinMins)|min(ResponseDelayedinMins)|max(ResponseDelayedinMins)|\n",
      "+--------------+--------------------------+--------------------------+--------------------------+\n",
      "|        176170|         3.892364154521585|               0.016666668|                   1844.55|\n",
      "+--------------+--------------------------+--------------------------+--------------------------+\n",
      "\n"
     ]
    }
   ],
   "source": [
    "# min,max, avg\n",
    "(fire_ts_df\n",
    "  .select(F.sum(\"NumAlarms\"), F.avg(\"ResponseDelayedinMins\"),\n",
    "    F.min(\"ResponseDelayedinMins\"), F.max(\"ResponseDelayedinMins\"))\n",
    "  .show())"
   ]
  },
  {
   "cell_type": "markdown",
   "id": "16bf23b8",
   "metadata": {},
   "source": [
    "## Ответы на вопросы"
   ]
  },
  {
   "cell_type": "markdown",
   "id": "b5277658",
   "metadata": {},
   "source": [
    "### Q-1) How many distinct types of calls were made to the Fire Department?\n",
    "\n",
    "\n",
    "To be sure, let's not count \"null\" strings in that column."
   ]
  },
  {
   "cell_type": "code",
   "execution_count": 16,
   "id": "43fdfaeb",
   "metadata": {},
   "outputs": [
    {
     "data": {
      "text/plain": [
       "30"
      ]
     },
     "execution_count": 16,
     "metadata": {},
     "output_type": "execute_result"
    }
   ],
   "source": [
    "(fire_df\n",
    "  .select(\"CallType\")\n",
    "  .where(F.col(\"CallType\").isNotNull())\n",
    "  .distinct()\n",
    "  .count())\n"
   ]
  },
  {
   "cell_type": "markdown",
   "id": "635a7b76",
   "metadata": {},
   "source": [
    "### Q-2) What are distinct types of calls were made to the Fire Department?\n",
    "\n",
    "\n",
    "These are all the distinct type of call to the SF Fire Department"
   ]
  },
  {
   "cell_type": "code",
   "execution_count": 17,
   "id": "4c421c3b",
   "metadata": {},
   "outputs": [
    {
     "name": "stdout",
     "output_type": "stream",
     "text": [
      "+--------------------------------------------+\n",
      "|CallType                                    |\n",
      "+--------------------------------------------+\n",
      "|Administrative                              |\n",
      "|Aircraft Emergency                          |\n",
      "|Alarms                                      |\n",
      "|Assist Police                               |\n",
      "|Citizen Assist / Service Call               |\n",
      "|Confined Space / Structure Collapse         |\n",
      "|Electrical Hazard                           |\n",
      "|Elevator / Escalator Rescue                 |\n",
      "|Explosion                                   |\n",
      "|Extrication / Entrapped (Machinery, Vehicle)|\n",
      "|Fuel Spill                                  |\n",
      "|Gas Leak (Natural and LP Gases)             |\n",
      "|HazMat                                      |\n",
      "|High Angle Rescue                           |\n",
      "|Industrial Accidents                        |\n",
      "|Marine Fire                                 |\n",
      "|Medical Incident                            |\n",
      "|Mutual Aid / Assist Outside Agency          |\n",
      "|Odor (Strange / Unknown)                    |\n",
      "|Oil Spill                                   |\n",
      "|Other                                       |\n",
      "|Outside Fire                                |\n",
      "|Smoke Investigation (Outside)               |\n",
      "|Structure Fire                              |\n",
      "|Suspicious Package                          |\n",
      "|Traffic Collision                           |\n",
      "|Train / Rail Incident                       |\n",
      "|Vehicle Fire                                |\n",
      "|Water Rescue                                |\n",
      "|Watercraft in Distress                      |\n",
      "+--------------------------------------------+\n",
      "\n"
     ]
    }
   ],
   "source": [
    "(fire_df\n",
    "    .select(\"CallType\")\n",
    "    .where(F.col(\"CallType\").isNotNull())\n",
    "    .distinct()\n",
    "    .orderBy(\"CallType\")\n",
    "    .show(n=50, truncate=False))"
   ]
  },
  {
   "cell_type": "markdown",
   "id": "dc8fa60a",
   "metadata": {},
   "source": [
    "### Q-3) Find out all response or delayed times greater than 5 mins?\n",
    "\n",
    "\n",
    "Rename the column Delay - > ReponseDelayedinMins\n",
    "\n",
    "\n",
    "Returns a new DataFrame\n",
    "\n",
    "\n",
    "Find out all calls where the response time to the fire site was delayed for more than 5 mins"
   ]
  },
  {
   "cell_type": "code",
   "execution_count": 18,
   "id": "c11cf278",
   "metadata": {},
   "outputs": [
    {
     "name": "stdout",
     "output_type": "stream",
     "text": [
      "+----------------------------------+---------------------+\n",
      "|CallType                          |ResponseDelayedinMins|\n",
      "+----------------------------------+---------------------+\n",
      "|Alarms                            |1844.55              |\n",
      "|Structure Fire                    |1370.2333            |\n",
      "|Structure Fire                    |949.11664            |\n",
      "|Structure Fire                    |931.45               |\n",
      "|Structure Fire                    |751.93335            |\n",
      "|Structure Fire                    |734.05               |\n",
      "|Medical Incident                  |721.4                |\n",
      "|Assist Police                     |628.61664            |\n",
      "|Structure Fire                    |535.93335            |\n",
      "|Structure Fire                    |491.26666            |\n",
      "|Structure Fire                    |437.8                |\n",
      "|Structure Fire                    |424.58334            |\n",
      "|Structure Fire                    |414.85               |\n",
      "|Train / Rail Incident             |406.63333            |\n",
      "|Other                             |405.7                |\n",
      "|Structure Fire                    |386.83334            |\n",
      "|Structure Fire                    |385.58334            |\n",
      "|Structure Fire                    |359.11667            |\n",
      "|Medical Incident                  |340.48334            |\n",
      "|Outside Fire                      |340.11667            |\n",
      "|Structure Fire                    |336.33334            |\n",
      "|Structure Fire                    |332.95               |\n",
      "|Structure Fire                    |330.66666            |\n",
      "|Structure Fire                    |316.58334            |\n",
      "|Medical Incident                  |314.95               |\n",
      "|Structure Fire                    |308.56668            |\n",
      "|Mutual Aid / Assist Outside Agency|302.88333            |\n",
      "|Structure Fire                    |297.05               |\n",
      "|Structure Fire                    |280.76666            |\n",
      "|Structure Fire                    |244.88333            |\n",
      "|Structure Fire                    |241.61667            |\n",
      "|Structure Fire                    |241.01666            |\n",
      "|Traffic Collision                 |239.95               |\n",
      "|Structure Fire                    |216.86667            |\n",
      "|Structure Fire                    |213.1                |\n",
      "|Alarms                            |202.13333            |\n",
      "|Outside Fire                      |199.45               |\n",
      "|Structure Fire                    |189.63333            |\n",
      "|Structure Fire                    |184.51666            |\n",
      "|Other                             |175.86667            |\n",
      "|Outside Fire                      |175.58333            |\n",
      "|Structure Fire                    |172.66667            |\n",
      "|Structure Fire                    |171.85               |\n",
      "|Alarms                            |171.7                |\n",
      "|Structure Fire                    |159.83333            |\n",
      "|Electrical Hazard                 |159.66667            |\n",
      "|Medical Incident                  |155.8                |\n",
      "|Medical Incident                  |145.2                |\n",
      "|Citizen Assist / Service Call     |142.8                |\n",
      "|Medical Incident                  |135.51666            |\n",
      "+----------------------------------+---------------------+\n",
      "only showing top 50 rows\n",
      "\n"
     ]
    }
   ],
   "source": [
    "new_fire_df = fire_df.withColumnRenamed(\"Delay\", \"ResponseDelayedinMins\")\n",
    "(new_fire_df\n",
    "  .select(\"CallType\", \"ResponseDelayedinMins\")\n",
    "  .where(F.col(\"ResponseDelayedinMins\") > 5)\n",
    "  .orderBy(\"ResponseDelayedinMins\", ascending=False)\n",
    "  .show(50, False))"
   ]
  },
  {
   "cell_type": "markdown",
   "id": "49c9ffb0",
   "metadata": {},
   "source": [
    "### Q-4a) What zip codes accounted for most common calls?\n",
    "\n",
    "\n",
    "Let's investigate what zip codes in San Francisco accounted for most fire calls and what type where they.\n",
    "\n",
    "\n",
    "Filter out by CallType\n",
    "\n",
    "\n",
    "Group them by CallType and Zip code\n",
    "\n",
    "\n",
    "Count them and display them in descending order\n",
    "\n",
    "\n",
    "It seems like the most common calls were all related to Medical Incident, and the two zip codes are 94102 and 94103."
   ]
  },
  {
   "cell_type": "code",
   "execution_count": 19,
   "id": "9a4ae34a",
   "metadata": {},
   "outputs": [
    {
     "name": "stdout",
     "output_type": "stream",
     "text": [
      "+-----------------+-------+-----+\n",
      "|CallType         |Zipcode|count|\n",
      "+-----------------+-------+-----+\n",
      "|Medical Incident |94102  |16130|\n",
      "|Medical Incident |94103  |14775|\n",
      "|Medical Incident |94110  |9995 |\n",
      "|Medical Incident |94109  |9479 |\n",
      "|Medical Incident |94124  |5885 |\n",
      "|Medical Incident |94112  |5630 |\n",
      "|Medical Incident |94115  |4785 |\n",
      "|Medical Incident |94122  |4323 |\n",
      "|Medical Incident |94107  |4284 |\n",
      "|Medical Incident |94133  |3977 |\n",
      "|Medical Incident |94117  |3522 |\n",
      "|Medical Incident |94134  |3437 |\n",
      "|Medical Incident |94114  |3225 |\n",
      "|Medical Incident |94118  |3104 |\n",
      "|Medical Incident |94121  |2953 |\n",
      "|Medical Incident |94116  |2738 |\n",
      "|Medical Incident |94132  |2594 |\n",
      "|Structure Fire   |94110  |2267 |\n",
      "|Medical Incident |94105  |2258 |\n",
      "|Structure Fire   |94102  |2229 |\n",
      "|Structure Fire   |94103  |2221 |\n",
      "|Alarms           |94103  |2168 |\n",
      "|Medical Incident |94108  |2162 |\n",
      "|Structure Fire   |94109  |2160 |\n",
      "|Alarms           |94102  |2140 |\n",
      "|Medical Incident |94123  |1940 |\n",
      "|Medical Incident |94131  |1853 |\n",
      "|Alarms           |94109  |1831 |\n",
      "|Structure Fire   |94124  |1590 |\n",
      "|Medical Incident |94111  |1589 |\n",
      "|Structure Fire   |94112  |1432 |\n",
      "|Alarms           |94115  |1358 |\n",
      "|Medical Incident |94127  |1206 |\n",
      "|Structure Fire   |94115  |1023 |\n",
      "|Alarms           |94105  |1015 |\n",
      "|Structure Fire   |94117  |975  |\n",
      "|Alarms           |94110  |974  |\n",
      "|Alarms           |94108  |913  |\n",
      "|Structure Fire   |94107  |912  |\n",
      "|Traffic Collision|94103  |900  |\n",
      "|Alarms           |94107  |887  |\n",
      "|Structure Fire   |94114  |864  |\n",
      "|Alarms           |94133  |822  |\n",
      "|Structure Fire   |94133  |807  |\n",
      "|Structure Fire   |94122  |727  |\n",
      "|Structure Fire   |94118  |703  |\n",
      "|Structure Fire   |94134  |702  |\n",
      "|Structure Fire   |94123  |672  |\n",
      "|Alarms           |94117  |664  |\n",
      "|Traffic Collision|94110  |652  |\n",
      "+-----------------+-------+-----+\n",
      "only showing top 50 rows\n",
      "\n"
     ]
    }
   ],
   "source": [
    "(fire_df\n",
    "    .select(\"CallType\", \"Zipcode\")\n",
    "    .where(F.col(\"CallType\").isNotNull())\n",
    "    .groupBy(\"CallType\", \"Zipcode\")\n",
    "    .count()\n",
    "    .orderBy(\"count\", ascending=False)\n",
    "    .show(n=50, truncate=False))"
   ]
  },
  {
   "cell_type": "markdown",
   "id": "da7b72da",
   "metadata": {},
   "source": [
    "Q-4b) What San Francisco neighborhoods are in the zip codes 94102 and 94103\n",
    "\n",
    "\n",
    "Let's find out the neighborhoods associated with these two zip codes. In all likelihood, these are some of the contested neighborhood with high reported crimes."
   ]
  },
  {
   "cell_type": "code",
   "execution_count": 20,
   "id": "afa01511",
   "metadata": {},
   "outputs": [
    {
     "name": "stdout",
     "output_type": "stream",
     "text": [
      "+-------+------------------------------+-----+\n",
      "|Zipcode|Neighborhood                  |count|\n",
      "+-------+------------------------------+-----+\n",
      "|94102  |Tenderloin                    |17084|\n",
      "|94102  |Hayes Valley                  |2814 |\n",
      "|94102  |Western Addition              |910  |\n",
      "|94102  |Financial District/South Beach|446  |\n",
      "|94102  |Nob Hill                      |332  |\n",
      "|94102  |South of Market               |254  |\n",
      "+-------+------------------------------+-----+\n",
      "\n",
      "+-------+------------------------------+-----+\n",
      "|Zipcode|Neighborhood                  |count|\n",
      "+-------+------------------------------+-----+\n",
      "|94103  |South of Market               |13762|\n",
      "|94103  |Mission                       |5445 |\n",
      "|94103  |Financial District/South Beach|1090 |\n",
      "|94103  |Tenderloin                    |324  |\n",
      "|94103  |Mission Bay                   |167  |\n",
      "|94103  |Hayes Valley                  |53   |\n",
      "|94103  |Castro/Upper Market           |51   |\n",
      "|94103  |Potrero Hill                  |5    |\n",
      "+-------+------------------------------+-----+\n",
      "\n"
     ]
    }
   ],
   "source": [
    "(fire_df\n",
    "    .select(\"CallType\", \"Zipcode\", \"Neighborhood\")\n",
    "    .where(F.col(\"CallType\").isNotNull())\n",
    "     .where(F.col(\"Zipcode\") == 94102)\n",
    "    .groupBy(\"Zipcode\", \"Neighborhood\")\n",
    "    .count()\n",
    "    .orderBy(\"count\", ascending=False)\n",
    "    .show(truncate=False))\n",
    "\n",
    "(fire_df\n",
    "    .select(\"CallType\", \"Zipcode\", \"Neighborhood\")\n",
    "    .where(F.col(\"CallType\").isNotNull())\n",
    "     .where(F.col(\"Zipcode\") == 94103)\n",
    "    .groupBy(\"Zipcode\", \"Neighborhood\")\n",
    "    .count()\n",
    "    .orderBy(\"count\", ascending=False)\n",
    "    .show(truncate=False))"
   ]
  },
  {
   "cell_type": "markdown",
   "id": "79bff6ed",
   "metadata": {},
   "source": [
    "### Q-5) What was the sum of all calls, average, min and max of the response times for calls?\n",
    "\n",
    "\n",
    "Let's use the built-in Spark SQL functions to compute the sum, avg, min, and max of few columns:\n",
    "\n",
    "\n",
    "Number of Total Alarms\n",
    "\n",
    "\n",
    "What were the min and max the delay in response time before the Fire Dept arrived at the scene of the call"
   ]
  },
  {
   "cell_type": "code",
   "execution_count": 21,
   "id": "bfbe11e5",
   "metadata": {},
   "outputs": [
    {
     "name": "stdout",
     "output_type": "stream",
     "text": [
      "+--------------+--------------------------+--------------------------+--------------------------+\n",
      "|sum(NumAlarms)|avg(ResponseDelayedinMins)|min(ResponseDelayedinMins)|max(ResponseDelayedinMins)|\n",
      "+--------------+--------------------------+--------------------------+--------------------------+\n",
      "|        176170|         3.892364154521585|               0.016666668|                   1844.55|\n",
      "+--------------+--------------------------+--------------------------+--------------------------+\n",
      "\n"
     ]
    }
   ],
   "source": [
    "(fire_ts_df\n",
    "  .select(F.sum(\"NumAlarms\"), F.avg(\"ResponseDelayedinMins\"),\n",
    "    F.min(\"ResponseDelayedinMins\"), F.max(\"ResponseDelayedinMins\"))\n",
    "  .show())"
   ]
  },
  {
   "cell_type": "markdown",
   "id": "de00d80d",
   "metadata": {},
   "source": [
    "### Q-6b) What week of the year in 2018 had the most fire calls?\n",
    "\n",
    "\n",
    "Note: Week 1 is the New Years' week and week 25 is the July 4 the week. Loads of fireworks, so it makes sense the higher number of calls."
   ]
  },
  {
   "cell_type": "code",
   "execution_count": 22,
   "id": "41ca559f",
   "metadata": {},
   "outputs": [
    {
     "name": "stdout",
     "output_type": "stream",
     "text": [
      "+-----------------+-----+\n",
      "|IncidentWeek_2018|count|\n",
      "+-----------------+-----+\n",
      "|22               |259  |\n",
      "|40               |255  |\n",
      "|43               |250  |\n",
      "|25               |249  |\n",
      "|1                |246  |\n",
      "|44               |244  |\n",
      "|13               |243  |\n",
      "|32               |243  |\n",
      "|11               |240  |\n",
      "|5                |236  |\n",
      "|18               |236  |\n",
      "|23               |235  |\n",
      "|31               |234  |\n",
      "|42               |234  |\n",
      "|2                |234  |\n",
      "|19               |233  |\n",
      "|8                |232  |\n",
      "|34               |232  |\n",
      "|10               |232  |\n",
      "|28               |231  |\n",
      "+-----------------+-----+\n",
      "only showing top 20 rows\n",
      "\n"
     ]
    }
   ],
   "source": [
    "fire_ts_df_2018 = (fire_ts_df\n",
    "     .where(F.expr(\"EXTRACT(YEAR FROM IncidentDate)\")==2018))\n",
    "\n",
    "(fire_ts_df_2018\n",
    "     .select(\"IncidentDate\")\n",
    "     .where(F.col(\"CallType\").isNotNull())\n",
    "     .withColumn(\n",
    "    \"IncidentWeek_2018\",\n",
    "        F.expr(\"EXTRACT(WEEK FROM IncidentDate)\"),\n",
    ")\n",
    "    .groupBy(\"IncidentWeek_2018\")\n",
    "    .count()\n",
    "    .orderBy(\"count\", ascending=False)\n",
    "    .show(truncate=False))"
   ]
  },
  {
   "cell_type": "markdown",
   "id": "5aeba965",
   "metadata": {},
   "source": [
    "###  Q-7) What neighborhoods in San Francisco had the worst response time in 2018?\n",
    "\n",
    "\n",
    "It appears that if you living in Presidio Heights, the Fire Dept arrived in less than 3 mins, while Mission Bay took more than 6 mins."
   ]
  },
  {
   "cell_type": "code",
   "execution_count": 23,
   "id": "01127468",
   "metadata": {},
   "outputs": [
    {
     "name": "stdout",
     "output_type": "stream",
     "text": [
      "+------------------------------+--------------------------+\n",
      "|Neighborhood                  |avg(ResponseDelayedinMins)|\n",
      "+------------------------------+--------------------------+\n",
      "|Chinatown                     |6.190314101143033         |\n",
      "|Presidio                      |5.829227011272873         |\n",
      "|Treasure Island               |5.453703684111436         |\n",
      "|McLaren Park                  |4.74404764175415          |\n",
      "|Bayview Hunters Point         |4.620561962212182         |\n",
      "|Presidio Heights              |4.594131482319093         |\n",
      "|Inner Sunset                  |4.438095217981896         |\n",
      "|Inner Richmond                |4.364728709292966         |\n",
      "|Financial District/South Beach|4.344084616885593         |\n",
      "|Haight Ashbury                |4.266428579390049         |\n",
      "|Seacliff                      |4.26111114025116          |\n",
      "|West of Twin Peaks            |4.190952391851516         |\n",
      "|Potrero Hill                  |4.190555579037893         |\n",
      "|Pacific Heights               |4.180453730971402         |\n",
      "|Tenderloin                    |4.101519513551657         |\n",
      "|Oceanview/Merced/Ingleside    |3.947242203912289         |\n",
      "|Excelsior                     |3.9363993801317125        |\n",
      "|North Beach                   |3.889249638303534         |\n",
      "|Lakeshore                     |3.881551365057627         |\n",
      "|Mission Bay                   |3.854868933558464         |\n",
      "|Bernal Heights                |3.8464705796802745        |\n",
      "|Golden Gate Park              |3.8361979036126286        |\n",
      "|South of Market               |3.817584685514286         |\n",
      "|Castro/Upper Market           |3.8012616103032673        |\n",
      "|Nob Hill                      |3.799999982320656         |\n",
      "|Russian Hill                  |3.786621309056574         |\n",
      "|Twin Peaks                    |3.7292349641440343        |\n",
      "|Outer Richmond                |3.6480915955346047        |\n",
      "|Outer Mission                 |3.6317518444827           |\n",
      "|Sunset/Parkside               |3.5842003932147355        |\n",
      "|Noe Valley                    |3.525949378556843         |\n",
      "|Visitacion Valley             |3.4838095208009086        |\n",
      "|Mission                       |3.4505293849459875        |\n",
      "|Marina                        |3.4267888378098372        |\n",
      "|Hayes Valley                  |3.3703894590082037        |\n",
      "|None                          |3.363333320617676         |\n",
      "|Japantown                     |3.347695054526025         |\n",
      "|Portola                       |3.3385542175137854        |\n",
      "|Lincoln Park                  |3.3111111190583973        |\n",
      "|Western Addition              |3.2843276457861066        |\n",
      "|Glen Park                     |3.277777776122093         |\n",
      "|Lone Mountain/USF             |3.2472222397724786        |\n",
      "+------------------------------+--------------------------+\n",
      "\n"
     ]
    }
   ],
   "source": [
    "fire_ts_df_2018 = (fire_ts_df\n",
    "     .where(F.expr(\"EXTRACT(YEAR FROM IncidentDate)\")==2018))\n",
    "\n",
    "(fire_ts_df_2018\n",
    "     .select(\"Neighborhood\", \"ResponseDelayedinMins\")\n",
    "     .where(F.col(\"CallType\").isNotNull())\n",
    "    .groupBy(\"Neighborhood\")\n",
    "    .avg(\"ResponseDelayedinMins\")\n",
    "    .orderBy('avg(ResponseDelayedinMins)', ascending=False)\n",
    "    .show(50,truncate=False))"
   ]
  }
 ],
 "metadata": {
  "kernelspec": {
   "display_name": "Python 3 (ipykernel)",
   "language": "python",
   "name": "python3"
  },
  "language_info": {
   "codemirror_mode": {
    "name": "ipython",
    "version": 3
   },
   "file_extension": ".py",
   "mimetype": "text/x-python",
   "name": "python",
   "nbconvert_exporter": "python",
   "pygments_lexer": "ipython3",
   "version": "3.9.7"
  },
  "toc": {
   "base_numbering": 1,
   "nav_menu": {},
   "number_sections": true,
   "sideBar": true,
   "skip_h1_title": true,
   "title_cell": "Содержание",
   "title_sidebar": "Содержание",
   "toc_cell": true,
   "toc_position": {},
   "toc_section_display": true,
   "toc_window_display": true
  }
 },
 "nbformat": 4,
 "nbformat_minor": 5
}
